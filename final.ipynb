{
 "cells": [
  {
   "cell_type": "code",
   "execution_count": 10,
   "id": "29de4a31",
   "metadata": {},
   "outputs": [],
   "source": [
    "f = open(\"einstein2.txt\", \"r\")"
   ]
  },
  {
   "cell_type": "code",
   "execution_count": 26,
   "id": "466122ab",
   "metadata": {},
   "outputs": [
    {
     "ename": "ValueError",
     "evalue": "I/O operation on closed file.",
     "output_type": "error",
     "traceback": [
      "\u001b[0;31m---------------------------------------------------------------------------\u001b[0m",
      "\u001b[0;31mValueError\u001b[0m                                Traceback (most recent call last)",
      "\u001b[0;32m/var/folders/2r/ry6979md2718dgm3gcjx07gm0000gn/T/ipykernel_75456/1429071373.py\u001b[0m in \u001b[0;36m<module>\u001b[0;34m\u001b[0m\n\u001b[0;32m----> 1\u001b[0;31m \u001b[0mprint\u001b[0m\u001b[0;34m(\u001b[0m\u001b[0mf\u001b[0m\u001b[0;34m.\u001b[0m\u001b[0mread\u001b[0m\u001b[0;34m(\u001b[0m\u001b[0;34m)\u001b[0m\u001b[0;34m)\u001b[0m\u001b[0;34m\u001b[0m\u001b[0;34m\u001b[0m\u001b[0m\n\u001b[0m",
      "\u001b[0;31mValueError\u001b[0m: I/O operation on closed file."
     ]
    }
   ],
   "source": [
    "print(f.read())"
   ]
  },
  {
   "cell_type": "code",
   "execution_count": 2,
   "id": "9085b6d7",
   "metadata": {},
   "outputs": [],
   "source": [
    "def open_file():\n",
    "    filename = input(\"Input a file name:\")\n",
    "    while filename == \"einstein2.txt\":\n",
    "        try:\n",
    "            f=open(\"einstein2.txt\")\n",
    "            print(f.read())\n",
    "        except:\n",
    "            print(\"Something went wrong when opening this file\")\n",
    "        finally:\n",
    "            f.close()\n",
    "        break\n",
    "    \n",
    "    while filename != \"einstein2.txt\":\n",
    "        filename = input(\"Try Again:\")\n",
    "        if filename == \"einstein2.txt\":\n",
    "            try:\n",
    "                f=open(\"einstein2.txt\")\n",
    "                print(f.read())\n",
    "            except:\n",
    "                print(\"Something went wrong when opening this file\")\n",
    "            finally:\n",
    "                f.close()\n",
    "            break\n",
    "    \n",
    "        \n",
    "        \n",
    "        \n",
    "        \n",
    "            \n",
    "        "
   ]
  },
  {
   "cell_type": "code",
   "execution_count": 98,
   "id": "d5e85373",
   "metadata": {},
   "outputs": [
    {
     "name": "stdout",
     "output_type": "stream",
     "text": [
      "Input a file name:einstein2.txt\n"
     ]
    },
    {
     "data": {
      "text/plain": [
       "['Try not to become a man of success',\n",
       " ' but rather try to become a man of value. ',\n",
       " 'Look deep into nature',\n",
       " ' and then you will understand everything better.',\n",
       " 'The true sign of intelligence is not knowledge but imagination. ',\n",
       " 'We cannot solve our problems with the same thinking we used when we created them. ',\n",
       " 'Weakness of attitude becomes weakness of character.',\n",
       " \"You can't blame gravity for falling in love. \",\n",
       " 'The difference between stupidity and genius is that genius has its limits. ',\n",
       " '']"
      ]
     },
     "execution_count": 98,
     "metadata": {},
     "output_type": "execute_result"
    }
   ],
   "source": [
    "def open_file():\n",
    "    filename = input(\"Input a file name:\")\n",
    "    while filename == \"einstein2.txt\":\n",
    "        try:\n",
    "            f=open(\"einstein2.txt\")\n",
    "            new = f.read()\n",
    "            my_list = new.replace('\\n', \",\").split(\",\")\n",
    "            return my_list\n",
    "        except:\n",
    "            print(\"Something went wrong when opening this file\")\n",
    "        finally:\n",
    "            f.close()\n",
    "        break\n",
    "    \n",
    "    while filename != \"einstein2.txt\":\n",
    "        filename = input(\"Try Again:\")\n",
    "        if filename == \"einstein2.txt\":\n",
    "            try:\n",
    "                f=open(\"einstein2.txt\")\n",
    "                new2 = f.read()\n",
    "                my_list = new2.replace('\\n', \",\").split(\",\")\n",
    "                return new2\n",
    "            except:\n",
    "                print(\"Something went wrong when opening this file\")\n",
    "            finally:\n",
    "                f.close()\n",
    "            break\n",
    "\n",
    "open_file()\n",
    "\n",
    "\n",
    "    "
   ]
  },
  {
   "cell_type": "code",
   "execution_count": 100,
   "id": "991efcbf",
   "metadata": {},
   "outputs": [
    {
     "name": "stdout",
     "output_type": "stream",
     "text": [
      "Input a file name:einstein2.txt\n"
     ]
    }
   ],
   "source": [
    "var = open_file()"
   ]
  },
  {
   "cell_type": "code",
   "execution_count": 102,
   "id": "a02f3e0c",
   "metadata": {},
   "outputs": [
    {
     "name": "stdout",
     "output_type": "stream",
     "text": [
      "try not to become a man of success\n",
      " but rather try to become a man of value. \n",
      "look deep into nature\n",
      " and then you will understand everything better.\n",
      "the true sign of intelligence is not knowledge but imagination. \n",
      "we cannot solve our problems with the same thinking we used when we created them. \n",
      "weakness of attitude becomes weakness of character.\n",
      "you can't blame gravity for falling in love. \n",
      "the difference between stupidity and genius is that genius has its limits. \n",
      "\n"
     ]
    }
   ],
   "source": [
    "def read_data(fp):\n",
    "    for line in fp:\n",
    "        line = line.lower()\n",
    "        print(line.lower())\n",
    "    import string\n",
    "    punctuations = string.punctuation\n",
    "    for line in fp:\n",
    "        if line in punctuations:\n",
    "         #   del(punctuations) \n",
    "        #print(no_punc)\n",
    "read_data(var)"
   ]
  },
  {
   "cell_type": "code",
   "execution_count": 40,
   "id": "f4a26a7b",
   "metadata": {},
   "outputs": [
    {
     "name": "stdout",
     "output_type": "stream",
     "text": [
      "try not to become a man of success, but rather try to become a man of value. \n",
      "\n",
      "look deep into nature, and then you will understand everything better.\n",
      "\n",
      "the true sign of intelligence is not knowledge but imagination. \n",
      "\n",
      "we cannot solve our problems with the same thinking we used when we created them. \n",
      "\n",
      "weakness of attitude becomes weakness of character.\n",
      "\n",
      "you can't blame gravity for falling in love. \n",
      "\n",
      "the difference between stupidity and genius is that genius has its limits. \n",
      "\n"
     ]
    }
   ],
   "source": [
    "import string\n",
    "punctuations = string.punctuation\n",
    "no_punc = \"\"\n",
    "with open(\"einstein2.txt\", \"r\") as fileinput:\n",
    "    for line in fileinput:\n",
    "        if line not in punctuations:\n",
    "            no_punc = no_punc + line\n",
    "            no_punc = line.lower()\n",
    "            print(no_punc)\n",
    "    \n",
    "for line in line:\n",
    "       if line not in punctuations:\n",
    "        no_punc = no_punc + line\n",
    "    print(no_punc)\n",
    "    \n",
    "        \n",
    "\n",
    "f = open(\"einstein2.txt\", \"r\")\n",
    "raw = f.read()\n",
    "no_punc = \"\"\n",
    "for line in raw:\n",
    "    if line not in punctuations:\n",
    "        no_punc = no_punc + line\n",
    "print(no_punc)\n",
    "\n",
    "\n"
   ]
  },
  {
   "cell_type": "code",
   "execution_count": 23,
   "id": "1ca1a507",
   "metadata": {},
   "outputs": [
    {
     "name": "stdout",
     "output_type": "stream",
     "text": [
      "Try not to become a man of success but rather try to become a man of value \n",
      "Look deep into nature and then you will understand everything better\n",
      "The true sign of intelligence is not knowledge but imagination \n",
      "We cannot solve our problems with the same thinking we used when we created them \n",
      "Weakness of attitude becomes weakness of character\n",
      "You cant blame gravity for falling in love \n",
      "The difference between stupidity and genius is that genius has its limits \n",
      "\n"
     ]
    }
   ],
   "source": []
  }
 ],
 "metadata": {
  "kernelspec": {
   "display_name": "Python 3 (ipykernel)",
   "language": "python",
   "name": "python3"
  },
  "language_info": {
   "codemirror_mode": {
    "name": "ipython",
    "version": 3
   },
   "file_extension": ".py",
   "mimetype": "text/x-python",
   "name": "python",
   "nbconvert_exporter": "python",
   "pygments_lexer": "ipython3",
   "version": "3.7.7"
  }
 },
 "nbformat": 4,
 "nbformat_minor": 5
}
