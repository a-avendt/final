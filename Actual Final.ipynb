{
 "cells": [
  {
   "cell_type": "code",
   "execution_count": null,
   "id": "0aac835b",
   "metadata": {},
   "outputs": [],
   "source": [
    "def open_file():\n",
    "    input_readable = False\n",
    "    while input_readable == False:\n",
    "        #opening and reading the file\n",
    "        try: \n",
    "            f = input(\"Input a file name:\")\n",
    "            fp = open(f, \"r\")\n",
    "            while fp:\n",
    "                return fp\n",
    "        #error statement if file cannot be found\n",
    "        except FileNotFoundError:\n",
    "            print(\"Something went wrong when opening this file. Try Again.\")\n",
    "        else:\n",
    "            input_readable = True\n",
    "    return fp\n",
    "var = open_file()\n",
    "\n",
    "open_file()\n",
    "        "
   ]
  },
  {
   "cell_type": "code",
   "execution_count": 264,
   "id": "823a29ad",
   "metadata": {},
   "outputs": [
    {
     "data": {
      "text/plain": [
       "{}"
      ]
     },
     "execution_count": 264,
     "metadata": {},
     "output_type": "execute_result"
    }
   ],
   "source": [
    "\n",
    "\n",
    "def read_data(fp):\n",
    "\n",
    "    fp=fp.readlines()\n",
    "    #making everything lowercase\n",
    "    for i in range(len(fp)):\n",
    "        for word in fp[i]:\n",
    "            fp[i]=fp[i].replace(word,word.lower())\n",
    "    #getting rid of punctuation\n",
    "    import string\n",
    "    punctuations = string.punctuation\n",
    "    for i in range(len(fp)):\n",
    "        for word in fp[i]:\n",
    "            if word in punctuations:\n",
    "                fp[i]=fp[i].replace(word,\"\")\n",
    "    #only dealing with alpha characters\n",
    "    for i in range(len(fp)):\n",
    "        for word in fp[i]:\n",
    "            words=[word for word in fp[i] if word.isalpha()]\n",
    "            result=''.join(words)\n",
    "    #spliting into words\n",
    "    #split=fp.read().replace(\"\\n\",\"\").split(' ')\n",
    "    [i.split(' ', 1)[0] for i in fp]\n",
    "    \n",
    "    for h in range(len(fp)):\n",
    "        fp[h] = fp[h].replace('\\n','')\n",
    "\n",
    "    \n",
    "\n",
    "    \n",
    "    #creating the dictionary\n",
    "    def dictionary(fp):\n",
    "        words=[]\n",
    "        oldD={}\n",
    "        for line in fp:\n",
    "            words=words+line.split(' ')\n",
    "\n",
    "        for j in words:\n",
    "            if j not in oldD:\n",
    "                oldD[j]=[]\n",
    "                for i in range(len(fp)):\n",
    "                    if j in fp[i]:\n",
    "                        oldD[j].append(i+1)\n",
    "        D = {k:oldD[k] for k in oldD if len(k)>=2}\n",
    "        return (D)\n",
    "    c=dictionary(fp)\n",
    "    return (c)\n",
    "\n",
    "    return(fp)\n",
    "var2 = read_data(var)\n",
    "var2\n"
   ]
  },
  {
   "cell_type": "code",
   "execution_count": 265,
   "id": "f8a537b0",
   "metadata": {},
   "outputs": [],
   "source": [
    "def find_cooccurance(D, inp_str):\n",
    "    #splitting the input\n",
    "    ls=inp_str.split(\" \")\n",
    "    #various print statements for formatting\n",
    "    print(\"The co-occurance for:\", ls)\n",
    "    print(\"Lines: \")\n",
    "    #making sure that what is inputed is in the dictionary\n",
    "    for i in ls:\n",
    "        if i not in D.keys():\n",
    "            print(\"None\")\n",
    "            return\n",
    "    #making the output the intersected values of D\n",
    "    #getting the intersection of the keys of D and the inputed words\n",
    "    intersect = D.keys() & ls\n",
    "    #empty variables for later\n",
    "    result= []\n",
    "    final = []\n",
    "    #finding how many words were inputed\n",
    "    amount_of_words = len(intersect)\n",
    "    #adding the values of D corresponding to the inputed words into result (empty list)\n",
    "    for word in intersect:\n",
    "        number = D[word]\n",
    "        result.append(number)\n",
    "    #converting result into a string\n",
    "    string1 = ' '.join(str(e) for e in result)\n",
    "    #for each character in the string, only work with the numbers\n",
    "    for char in string1:\n",
    "        if char.isnumeric() == True:\n",
    "            #initializing counter variable\n",
    "            counter = 0\n",
    "            for x in range(len(string1)):\n",
    "                if string1[x] == char:\n",
    "                    counter += 1 \n",
    "            if counter == amount_of_words:\n",
    "                if char not in final:\n",
    "                    final.append(char)\n",
    "    print(final)\n",
    "    return final\n",
    "\n"
   ]
  },
  {
   "cell_type": "code",
   "execution_count": 266,
   "id": "eaa58277",
   "metadata": {},
   "outputs": [
    {
     "ename": "KeyboardInterrupt",
     "evalue": "Interrupted by user",
     "output_type": "error",
     "traceback": [
      "\u001b[0;31m---------------------------------------------------------------------------\u001b[0m",
      "\u001b[0;31mKeyboardInterrupt\u001b[0m                         Traceback (most recent call last)",
      "\u001b[0;32m/var/folders/2r/ry6979md2718dgm3gcjx07gm0000gn/T/ipykernel_33984/3532991847.py\u001b[0m in \u001b[0;36m<module>\u001b[0;34m\u001b[0m\n\u001b[1;32m     10\u001b[0m \u001b[0;34m\u001b[0m\u001b[0m\n\u001b[1;32m     11\u001b[0m \u001b[0;32mif\u001b[0m \u001b[0m__name__\u001b[0m\u001b[0;34m==\u001b[0m\u001b[0;34m\"__main__\"\u001b[0m\u001b[0;34m:\u001b[0m\u001b[0;34m\u001b[0m\u001b[0;34m\u001b[0m\u001b[0m\n\u001b[0;32m---> 12\u001b[0;31m     \u001b[0mmain\u001b[0m\u001b[0;34m(\u001b[0m\u001b[0;34m)\u001b[0m\u001b[0;34m\u001b[0m\u001b[0;34m\u001b[0m\u001b[0m\n\u001b[0m",
      "\u001b[0;32m/var/folders/2r/ry6979md2718dgm3gcjx07gm0000gn/T/ipykernel_33984/3532991847.py\u001b[0m in \u001b[0;36mmain\u001b[0;34m()\u001b[0m\n\u001b[1;32m      1\u001b[0m \u001b[0;32mdef\u001b[0m \u001b[0mmain\u001b[0m\u001b[0;34m(\u001b[0m\u001b[0;34m)\u001b[0m\u001b[0;34m:\u001b[0m\u001b[0;34m\u001b[0m\u001b[0;34m\u001b[0m\u001b[0m\n\u001b[0;32m----> 2\u001b[0;31m     \u001b[0mfp\u001b[0m\u001b[0;34m=\u001b[0m\u001b[0mopen_file\u001b[0m\u001b[0;34m(\u001b[0m\u001b[0;34m)\u001b[0m\u001b[0;34m\u001b[0m\u001b[0;34m\u001b[0m\u001b[0m\n\u001b[0m\u001b[1;32m      3\u001b[0m     \u001b[0md\u001b[0m\u001b[0;34m=\u001b[0m\u001b[0mread_data\u001b[0m\u001b[0;34m(\u001b[0m\u001b[0mfp\u001b[0m\u001b[0;34m)\u001b[0m\u001b[0;34m\u001b[0m\u001b[0;34m\u001b[0m\u001b[0m\n\u001b[1;32m      4\u001b[0m     \u001b[0minp\u001b[0m\u001b[0;34m=\u001b[0m\u001b[0;34m\"\"\u001b[0m\u001b[0;34m\u001b[0m\u001b[0;34m\u001b[0m\u001b[0m\n\u001b[1;32m      5\u001b[0m     \u001b[0;32mwhile\u001b[0m \u001b[0;32mTrue\u001b[0m\u001b[0;34m:\u001b[0m\u001b[0;34m\u001b[0m\u001b[0;34m\u001b[0m\u001b[0m\n",
      "\u001b[0;32m/var/folders/2r/ry6979md2718dgm3gcjx07gm0000gn/T/ipykernel_33984/1744634378.py\u001b[0m in \u001b[0;36mopen_file\u001b[0;34m()\u001b[0m\n\u001b[1;32m      4\u001b[0m         \u001b[0;31m#opening and reading the file\u001b[0m\u001b[0;34m\u001b[0m\u001b[0;34m\u001b[0m\u001b[0;34m\u001b[0m\u001b[0m\n\u001b[1;32m      5\u001b[0m         \u001b[0;32mtry\u001b[0m\u001b[0;34m:\u001b[0m\u001b[0;34m\u001b[0m\u001b[0;34m\u001b[0m\u001b[0m\n\u001b[0;32m----> 6\u001b[0;31m             \u001b[0mf\u001b[0m \u001b[0;34m=\u001b[0m \u001b[0minput\u001b[0m\u001b[0;34m(\u001b[0m\u001b[0;34m\"Input a file name:\"\u001b[0m\u001b[0;34m)\u001b[0m\u001b[0;34m\u001b[0m\u001b[0;34m\u001b[0m\u001b[0m\n\u001b[0m\u001b[1;32m      7\u001b[0m             \u001b[0mfp\u001b[0m \u001b[0;34m=\u001b[0m \u001b[0mopen\u001b[0m\u001b[0;34m(\u001b[0m\u001b[0mf\u001b[0m\u001b[0;34m,\u001b[0m \u001b[0;34m\"r\"\u001b[0m\u001b[0;34m)\u001b[0m\u001b[0;34m\u001b[0m\u001b[0;34m\u001b[0m\u001b[0m\n\u001b[1;32m      8\u001b[0m             \u001b[0;32mwhile\u001b[0m \u001b[0mfp\u001b[0m\u001b[0;34m:\u001b[0m\u001b[0;34m\u001b[0m\u001b[0;34m\u001b[0m\u001b[0m\n",
      "\u001b[0;32m/opt/anaconda3/envs/r-tutorial/lib/python3.7/site-packages/ipykernel/kernelbase.py\u001b[0m in \u001b[0;36mraw_input\u001b[0;34m(self, prompt)\u001b[0m\n\u001b[1;32m   1077\u001b[0m             \u001b[0mself\u001b[0m\u001b[0;34m.\u001b[0m\u001b[0m_parent_ident\u001b[0m\u001b[0;34m[\u001b[0m\u001b[0;34m\"shell\"\u001b[0m\u001b[0;34m]\u001b[0m\u001b[0;34m,\u001b[0m\u001b[0;34m\u001b[0m\u001b[0;34m\u001b[0m\u001b[0m\n\u001b[1;32m   1078\u001b[0m             \u001b[0mself\u001b[0m\u001b[0;34m.\u001b[0m\u001b[0mget_parent\u001b[0m\u001b[0;34m(\u001b[0m\u001b[0;34m\"shell\"\u001b[0m\u001b[0;34m)\u001b[0m\u001b[0;34m,\u001b[0m\u001b[0;34m\u001b[0m\u001b[0;34m\u001b[0m\u001b[0m\n\u001b[0;32m-> 1079\u001b[0;31m             \u001b[0mpassword\u001b[0m\u001b[0;34m=\u001b[0m\u001b[0;32mFalse\u001b[0m\u001b[0;34m,\u001b[0m\u001b[0;34m\u001b[0m\u001b[0;34m\u001b[0m\u001b[0m\n\u001b[0m\u001b[1;32m   1080\u001b[0m         )\n\u001b[1;32m   1081\u001b[0m \u001b[0;34m\u001b[0m\u001b[0m\n",
      "\u001b[0;32m/opt/anaconda3/envs/r-tutorial/lib/python3.7/site-packages/ipykernel/kernelbase.py\u001b[0m in \u001b[0;36m_input_request\u001b[0;34m(self, prompt, ident, parent, password)\u001b[0m\n\u001b[1;32m   1118\u001b[0m             \u001b[0;32mexcept\u001b[0m \u001b[0mKeyboardInterrupt\u001b[0m\u001b[0;34m:\u001b[0m\u001b[0;34m\u001b[0m\u001b[0;34m\u001b[0m\u001b[0m\n\u001b[1;32m   1119\u001b[0m                 \u001b[0;31m# re-raise KeyboardInterrupt, to truncate traceback\u001b[0m\u001b[0;34m\u001b[0m\u001b[0;34m\u001b[0m\u001b[0;34m\u001b[0m\u001b[0m\n\u001b[0;32m-> 1120\u001b[0;31m                 \u001b[0;32mraise\u001b[0m \u001b[0mKeyboardInterrupt\u001b[0m\u001b[0;34m(\u001b[0m\u001b[0;34m\"Interrupted by user\"\u001b[0m\u001b[0;34m)\u001b[0m \u001b[0;32mfrom\u001b[0m \u001b[0;32mNone\u001b[0m\u001b[0;34m\u001b[0m\u001b[0;34m\u001b[0m\u001b[0m\n\u001b[0m\u001b[1;32m   1121\u001b[0m             \u001b[0;32mexcept\u001b[0m \u001b[0mException\u001b[0m\u001b[0;34m:\u001b[0m\u001b[0;34m\u001b[0m\u001b[0;34m\u001b[0m\u001b[0m\n\u001b[1;32m   1122\u001b[0m                 \u001b[0mself\u001b[0m\u001b[0;34m.\u001b[0m\u001b[0mlog\u001b[0m\u001b[0;34m.\u001b[0m\u001b[0mwarning\u001b[0m\u001b[0;34m(\u001b[0m\u001b[0;34m\"Invalid Message:\"\u001b[0m\u001b[0;34m,\u001b[0m \u001b[0mexc_info\u001b[0m\u001b[0;34m=\u001b[0m\u001b[0;32mTrue\u001b[0m\u001b[0;34m)\u001b[0m\u001b[0;34m\u001b[0m\u001b[0;34m\u001b[0m\u001b[0m\n",
      "\u001b[0;31mKeyboardInterrupt\u001b[0m: Interrupted by user"
     ]
    }
   ],
   "source": [
    "def main():\n",
    "    fp=open_file()\n",
    "    d=read_data(fp)\n",
    "    inp=\"\"\n",
    "    while True:\n",
    "        inp=input(\"Enter space-seperated words: \")\n",
    "        if inp=='q' or inp=='Q':\n",
    "            break\n",
    "        find_cooccurance(var2, inp)\n",
    "\n",
    "if __name__==\"__main__\":\n",
    "    main()"
   ]
  },
  {
   "cell_type": "code",
   "execution_count": null,
   "id": "3b3cdcf7",
   "metadata": {},
   "outputs": [],
   "source": []
  }
 ],
 "metadata": {
  "kernelspec": {
   "display_name": "Python 3 (ipykernel)",
   "language": "python",
   "name": "python3"
  },
  "language_info": {
   "codemirror_mode": {
    "name": "ipython",
    "version": 3
   },
   "file_extension": ".py",
   "mimetype": "text/x-python",
   "name": "python",
   "nbconvert_exporter": "python",
   "pygments_lexer": "ipython3",
   "version": "3.7.7"
  }
 },
 "nbformat": 4,
 "nbformat_minor": 5
}
